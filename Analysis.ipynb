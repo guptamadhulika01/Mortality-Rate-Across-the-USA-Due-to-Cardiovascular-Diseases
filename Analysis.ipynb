{
 "cells": [
  {
   "cell_type": "code",
   "execution_count": 3,
   "metadata": {},
   "outputs": [],
   "source": [
    "# Import Dependencies\n",
    "import requests\n",
    "import json\n",
    "import csv\n",
    "import os\n",
    "import pandas as pd\n",
    "import gmaps\n",
    "import gmaps.geojson_geometries"
   ]
  },
  {
   "cell_type": "code",
   "execution_count": 4,
   "metadata": {},
   "outputs": [],
   "source": [
    "#Loading the County and State geo_json geometry files\n",
    "counties_geojson = gmaps.geojson_geometries.load_geometry('us-counties')\n",
    "states_geojson = gmaps.geojson_geometries.load_geometry('us-states')\n",
    "#Set the fig object\n",
    "fig = gmaps.figure()\n",
    "#Set the mortality layer as the data point to determine depth of color in chloropleth\n",
    "mortality_layer = gmaps.geojson_layer(counties_geojson)\n",
    "#Add mortality layer to fig object\n",
    "fig.add_layer(mortality_layer)"
   ]
  },
  {
   "cell_type": "code",
   "execution_count": 5,
   "metadata": {},
   "outputs": [],
   "source": [
    "#Initialize state code and name array. This will then be used to create a state code and name mapping dictionary\n",
    "state_cd = []\n",
    "state_name = []\n",
    "for i in range(len(states_geojson['features'])):\n",
    "    state_cd.append(states_geojson['features'][i]['properties']['STATE'])\n",
    "    state_name.append(states_geojson['features'][i]['properties']['NAME'])\n",
    "state_cd = zip(state_cd,state_name)\n",
    "state_dict = dict(state_cd)"
   ]
  },
  {
   "cell_type": "code",
   "execution_count": 6,
   "metadata": {},
   "outputs": [],
   "source": [
    "#Import the cleaned up County Data csv\n",
    "county_df = pd.read_csv('Data/CleanedCounty.csv')\n",
    "#Index the County\n",
    "indexed_df = county_df.set_index('County')"
   ]
  },
  {
   "cell_type": "code",
   "execution_count": 7,
   "metadata": {},
   "outputs": [
    {
     "data": {
      "text/plain": [
       "967.18"
      ]
     },
     "execution_count": 7,
     "metadata": {},
     "output_type": "execute_result"
    }
   ],
   "source": [
    "#Using the Plasma color scheme assign color values (in hex) to mortality\n",
    "from matplotlib.cm import plasma\n",
    "from matplotlib.colors import to_hex\n",
    "min_mortality = indexed_df[\"Mortality\"].min()\n",
    "max_mortality = indexed_df[\"Mortality\"].max()\n",
    "mortality_range = max_mortality - min_mortality\n",
    "def calculate_color(mortality):\n",
    "    normalized_mortality = (mortality - min_mortality) / mortality_range\n",
    "    inverse_mortality = 1.0 - normalized_mortality\n",
    "    mpl_color = plasma(inverse_mortality)\n",
    "    gmaps_color = to_hex(mpl_color, keep_alpha=False)\n",
    "    return gmaps_color\n",
    "max_mortality"
   ]
  },
  {
   "cell_type": "code",
   "execution_count": 8,
   "metadata": {},
   "outputs": [
    {
     "name": "stdout",
     "output_type": "stream",
     "text": [
      "Choose a year among 1980/ 1985/ 1990/ 1995/ 2000/ 2005/ 2010/ 2014 : 1980\n"
     ]
    }
   ],
   "source": [
    "year = int(input(\"Choose a year among 1980/ 1985/ 1990/ 1995/ 2000/ 2005/ 2010/ 2014 : \"))\n",
    "map_df = indexed_df.loc[indexed_df[\"Year\"]==year]"
   ]
  },
  {
   "cell_type": "markdown",
   "metadata": {},
   "source": []
  },
  {
   "cell_type": "code",
   "execution_count": 9,
   "metadata": {},
   "outputs": [],
   "source": [
    "colors = []\n",
    "counties_not_found = []\n",
    "county_state = []\n",
    "for feature in counties_geojson['features']:\n",
    "    county_name = feature['properties']['NAME']\n",
    "    state_cd = feature['properties']['STATE']   \n",
    "    state_name = state_dict[state_cd]\n",
    "    county_state_name = county_name+\", \"+state_name\n",
    "    county_state.append(county_state_name)\n",
    "    try:\n",
    "        mortality = map_df.loc[county_state_name, \"Mortality\"]\n",
    "        color = calculate_color(mortality)\n",
    "    except KeyError:\n",
    "        counties_not_found.append(county_state_name)\n",
    "        color = (0, 0, 0, 0.3)\n",
    "    colors.append(color)\n",
    "cnf_df = pd.DataFrame(counties_not_found)\n",
    "cnf_df.to_excel('Data/cnf.xls')\n",
    "#county_state_df = pd.DataFrame(county_state)"
   ]
  },
  {
   "cell_type": "code",
   "execution_count": 20,
   "metadata": {
    "scrolled": true
   },
   "outputs": [
    {
     "data": {
      "application/vnd.jupyter.widget-view+json": {
       "model_id": "578dfdfdea2d4fa3b70c9141e786313f",
       "version_major": 2,
       "version_minor": 0
      },
      "text/plain": [
       "Figure(layout=FigureLayout(border='1px solid black', height='1000px', padding='1px', width='1200px'))"
      ]
     },
     "metadata": {},
     "output_type": "display_data"
    }
   ],
   "source": [
    "figure_layout = {\n",
    "    'width': '1200px',\n",
    "    'height': '1000px',\n",
    "    'border': '1px solid black',\n",
    "    'padding': '1px'\n",
    "}\n",
    "fig = gmaps.figure(layout=figure_layout)\n",
    "mortality_layer = gmaps.geojson_layer(\n",
    "    counties_geojson,\n",
    "    fill_color=colors,\n",
    "    stroke_color=colors,\n",
    "    fill_opacity=0.8)\n",
    "fig.add_layer(mortality_layer)\n",
    "fig"
   ]
  },
  {
   "cell_type": "code",
   "execution_count": 21,
   "metadata": {},
   "outputs": [],
   "source": [
    "states_geojson = gmaps.geojson_geometries.load_geometry('us-states')\n",
    "#Set the fig object\n",
    "fig = gmaps.figure()\n",
    "#Set the mortality layer as the data point to determine depth of color in chloropleth\n",
    "mortality_layer = gmaps.geojson_layer(states_geojson)\n",
    "#Add mortality layer to fig object\n",
    "fig.add_layer(mortality_layer)"
   ]
  },
  {
   "cell_type": "code",
   "execution_count": 22,
   "metadata": {},
   "outputs": [
    {
     "name": "stdout",
     "output_type": "stream",
     "text": [
      "Choose a year among 1980/ 1985/ 1990/ 1995/ 2000/ 2005/ 2010/ 2014 : 1990\n"
     ]
    }
   ],
   "source": [
    "#Import the cleaned up State Data csv\n",
    "state_df = pd.read_csv(\"Data/CleanedState.csv\")\n",
    "#Index the State\n",
    "indexed_df = state_df.set_index(\"State\")\n",
    "year = int(input(\"Choose a year among 1980/ 1985/ 1990/ 1995/ 2000/ 2005/ 2010/ 2014 : \"))\n",
    "map_df = indexed_df.loc[indexed_df[\"Year\"]==year]"
   ]
  },
  {
   "cell_type": "code",
   "execution_count": 23,
   "metadata": {},
   "outputs": [],
   "source": [
    "from matplotlib.cm import plasma\n",
    "from matplotlib.colors import to_hex\n",
    "min_mortality = indexed_df[\"Mortality\"].min()\n",
    "max_mortality = indexed_df[\"Mortality\"].max()\n",
    "mortality_range = max_mortality - min_mortality\n",
    "def calculate_color(mortality):\n",
    "    normalized_mortality = (mortality - min_mortality) / mortality_range\n",
    "    inverse_mortality = 1.0 - normalized_mortality\n",
    "    mpl_color = plasma(inverse_mortality)\n",
    "    gmaps_color = to_hex(mpl_color, keep_alpha=False)\n",
    "    return gmaps_color"
   ]
  },
  {
   "cell_type": "code",
   "execution_count": 24,
   "metadata": {},
   "outputs": [],
   "source": [
    "colors = []\n",
    "for feature in states_geojson['features']:\n",
    "    state_name = feature['properties']['NAME']\n",
    "    try:\n",
    "        mortality = map_df.loc[state_name, \"Mortality\"]\n",
    "        color = calculate_color(mortality)\n",
    "    except KeyError:\n",
    "        color = (0, 0, 0, 0.3)\n",
    "    colors.append(color)"
   ]
  },
  {
   "cell_type": "code",
   "execution_count": 25,
   "metadata": {},
   "outputs": [
    {
     "data": {
      "application/vnd.jupyter.widget-view+json": {
       "model_id": "d3eb38e875a748ff8a09a385f755f6d4",
       "version_major": 2,
       "version_minor": 0
      },
      "text/plain": [
       "Figure(layout=FigureLayout(border='1px solid black', height='1000px', padding='1px', width='1200px'))"
      ]
     },
     "metadata": {},
     "output_type": "display_data"
    }
   ],
   "source": [
    "figure_layout = {\n",
    "    'width': '1200px',\n",
    "    'height': '1000px',\n",
    "    'border': '1px solid black',\n",
    "    'padding': '1px'\n",
    "}\n",
    "fig = gmaps.figure(layout=figure_layout)\n",
    "mortality_layer = gmaps.geojson_layer(\n",
    "    states_geojson,\n",
    "    fill_color=colors,\n",
    "    stroke_color=colors,\n",
    "    fill_opacity=0.8)\n",
    "fig.add_layer(mortality_layer)\n",
    "fig"
   ]
  },
  {
   "cell_type": "code",
   "execution_count": 27,
   "metadata": {},
   "outputs": [],
   "source": [
    "input_df = pd.read_csv(\"Data/StateFlat.csv\")\n",
    "input_df = input_df[['State','1980','1985','1990','1995','2000','2005','2010','2014']]\n",
    "us_state_code_df = pd.read_csv('Data/US State Codes.csv')\n",
    "input_merge_df = pd.merge(input_df,us_state_code_df, on='State')\n",
    "input_merge_df_clean = input_merge_df [['Code','1980','1985','1990','1995','2000','2005','2010','2014']]\n",
    "input_merge_df_clean.head()\n",
    "input_merge_df_clean = input_merge_df_clean.set_index('Code')\n",
    "input_merge_df_clean = input_merge_df_clean.drop(\"AK\", axis=0)\n",
    "set1 = input_merge_df_clean.iloc[:10]\n",
    "set2 = input_merge_df_clean.iloc[10:20]\n",
    "set3 = input_merge_df_clean.iloc[20:30]\n",
    "set4 = input_merge_df_clean.iloc[30:40]\n",
    "set5 = input_merge_df_clean.iloc[40:50]\n",
    "states = input_merge_df['Code'].tolist()\n",
    "states.remove('AK')\n",
    "states1 = states[:10]\n",
    "states2 = states[10:20]\n",
    "states3 = states[20:30]\n",
    "states4 = states[30:40]\n",
    "states5 = states[40:50]"
   ]
  },
  {
   "cell_type": "code",
   "execution_count": 31,
   "metadata": {},
   "outputs": [
    {
     "data": {
      "image/png": "[encoded data removed]",
      "text/plain": [
       "<Figure size 432x288 with 1 Axes>"
      ]
     },
     "metadata": {
      "needs_background": "light"
     },
     "output_type": "display_data"
    }
   ],
   "source": [
    "import matplotlib.pyplot as plt\n",
    "years = list(input_df.columns)\n",
    "years = years[1:]\n",
    "\n",
    "i=0\n",
    "for state in states5:\n",
    "    state = set5.iloc[i]\n",
    "    i= i+1\n",
    "    plt.plot(years, state,label=state.name)\n",
    "    plt.legend(loc='lower left')\n",
    "    \n",
    "    #plt.text(10.2, 4, state, horizontalalignment='left', size='small', color='orange')\n",
    "us=[507.37,468.10,410.43,384.09,349.75,298.31,257.23,252.70]\n",
    "plt.plot(years,us,linewidth=5.0, alpha=0.9, color='crimson', label = 'US')\n",
    "#plt.text(10.2, 'Mr Orange', size='small', color='orange')\n",
    "plt.title ('Mortality rates across states 1980-2014')\n",
    "plt.xlabel ('Years')\n",
    "plt.ylabel ('Mortality')\n",
    "plt.savefig('Output/Set5.png',dpi=1000)"
   ]
  },
  {
   "cell_type": "code",
   "execution_count": null,
   "metadata": {},
   "outputs": [],
   "source": []
  }
 ],
 "metadata": {
  "kernelspec": {
   "display_name": "Python 3",
   "language": "python",
   "name": "python3"
  },
  "language_info": {
   "codemirror_mode": {
    "name": "ipython",
    "version": 3
   },
   "file_extension": ".py",
   "mimetype": "text/x-python",
   "name": "python",
   "nbconvert_exporter": "python",
   "pygments_lexer": "ipython3",
   "version": "3.7.3"
  }
 },
 "nbformat": 4,
 "nbformat_minor": 2
}
