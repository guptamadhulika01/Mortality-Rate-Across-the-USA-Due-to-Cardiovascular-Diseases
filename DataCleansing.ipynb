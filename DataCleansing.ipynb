{
 "cells": [
  {
   "cell_type": "code",
   "execution_count": 1,
   "metadata": {},
   "outputs": [],
   "source": [
    "# Import Dependencies\n",
    "import os\n",
    "import csv\n",
    "import pandas as pd\n",
    "input_file_county = 'Data/countyraw.csv'\n",
    "input_raw_df = pd.read_csv(input_file_county)"
   ]
  },
  {
   "cell_type": "code",
   "execution_count": 2,
   "metadata": {},
   "outputs": [],
   "source": [
    "# Put the years into list\n",
    "years = list(input_raw_df.columns)\n",
    "years = years[1:]"
   ]
  },
  {
   "cell_type": "code",
   "execution_count": 3,
   "metadata": {},
   "outputs": [
    {
     "name": "stderr",
     "output_type": "stream",
     "text": [
      "/Users/Writoban/anaconda3/lib/python3.7/site-packages/ipykernel_launcher.py:6: SettingWithCopyWarning: \n",
      "A value is trying to be set on a copy of a slice from a DataFrame.\n",
      "Try using .loc[row_indexer,col_indexer] = value instead\n",
      "\n",
      "See the caveats in the documentation: http://pandas.pydata.org/pandas-docs/stable/indexing.html#indexing-view-versus-copy\n",
      "  \n",
      "/Users/Writoban/anaconda3/lib/python3.7/site-packages/ipykernel_launcher.py:7: SettingWithCopyWarning: \n",
      "A value is trying to be set on a copy of a slice from a DataFrame.\n",
      "Try using .loc[row_indexer,col_indexer] = value instead\n",
      "\n",
      "See the caveats in the documentation: http://pandas.pydata.org/pandas-docs/stable/indexing.html#indexing-view-versus-copy\n",
      "  import sys\n"
     ]
    }
   ],
   "source": [
    "#Create clean dataframes including county, year, mortality rate \n",
    "#Import the county data and convert into yearly county data\n",
    "clean_data = []\n",
    "for year in years:\n",
    "    input_df = input_raw_df[['County', year]]\n",
    "    input_df['Year'] = year\n",
    "    input_df['Mortality'] = input_df[year].str[:6]\n",
    "    clean_data.append(input_df[['County', 'Year', 'Mortality']])\n",
    "clean_county_df = pd.concat(clean_data)"
   ]
  },
  {
   "cell_type": "code",
   "execution_count": 4,
   "metadata": {},
   "outputs": [],
   "source": [
    "#Display clean county data frame and save output into csv file\n",
    "clean_county_df.reset_index(drop=True)\n",
    "clean_county_df.to_csv('Data/CleanedCounty.csv', index = False)"
   ]
  },
  {
   "cell_type": "code",
   "execution_count": 5,
   "metadata": {},
   "outputs": [],
   "source": [
    "#Now on to cleaning the state level data and putting into a yearly format but at a columnar level. Every year is\n",
    "# a column for every state\n",
    "input_file_state = 'Data/stateraw.csv'\n",
    "input_raw_df = pd.read_csv(input_file_state)\n",
    "input_flat_df = input_raw_df\n",
    "for year in years:\n",
    "    input_flat_df [year]=input_flat_df[year].str[:6]\n",
    "input_flat_df.to_csv('Data/StateFlat.csv')"
   ]
  },
  {
   "cell_type": "code",
   "execution_count": 6,
   "metadata": {},
   "outputs": [
    {
     "name": "stderr",
     "output_type": "stream",
     "text": [
      "/Users/Writoban/anaconda3/lib/python3.7/site-packages/ipykernel_launcher.py:5: SettingWithCopyWarning: \n",
      "A value is trying to be set on a copy of a slice from a DataFrame.\n",
      "Try using .loc[row_indexer,col_indexer] = value instead\n",
      "\n",
      "See the caveats in the documentation: http://pandas.pydata.org/pandas-docs/stable/indexing.html#indexing-view-versus-copy\n",
      "  \"\"\"\n",
      "/Users/Writoban/anaconda3/lib/python3.7/site-packages/ipykernel_launcher.py:6: SettingWithCopyWarning: \n",
      "A value is trying to be set on a copy of a slice from a DataFrame.\n",
      "Try using .loc[row_indexer,col_indexer] = value instead\n",
      "\n",
      "See the caveats in the documentation: http://pandas.pydata.org/pandas-docs/stable/indexing.html#indexing-view-versus-copy\n",
      "  \n"
     ]
    }
   ],
   "source": [
    "#Clean state data and convert into yearly data at state level. Will be used in subsequent analysis and charting\n",
    "clean_data = []\n",
    "for year in years:\n",
    "    input_df = input_raw_df[['State', year]]\n",
    "    input_df['Year'] = year\n",
    "    input_df['Mortality'] = input_df[year].str[:6]\n",
    "    clean_data.append(input_df[['State', 'Year', 'Mortality']])\n",
    "clean_state_df = pd.concat(clean_data) "
   ]
  },
  {
   "cell_type": "code",
   "execution_count": 7,
   "metadata": {},
   "outputs": [],
   "source": [
    "clean_state_df.reset_index(drop=True)\n",
    "clean_state_df\n",
    "clean_state_df.to_csv('Data/CleanedState.csv', index = False)"
   ]
  },
  {
   "cell_type": "code",
   "execution_count": 8,
   "metadata": {},
   "outputs": [],
   "source": [
    "#Cleanup Obesity Data \n",
    "obesityState_df = pd.DataFrame(pd.read_csv('Data/AdultObesityRatesInUSA1990-2017.csv'))"
   ]
  },
  {
   "cell_type": "code",
   "execution_count": 9,
   "metadata": {},
   "outputs": [],
   "source": [
    "colstocheck = obesityState_df.columns\n",
    "obesityState_dfnopercentage= obesityState_df[colstocheck].replace({'%':''}, regex = True)\n",
    "obesity_state_df = obesityState_dfnopercentage[['State', 'Adult Obesity Rate 1990', 'Adult Obesity Rate 1995', 'Adult Obesity Rate 2000',\n",
    "                                                'Adult Obesity Rate 2005', 'Adult Obesity Rate 2010', 'Adult Obesity Rate 2014']]\n",
    "obesity_state_df = obesity_state_df.dropna()"
   ]
  },
  {
   "cell_type": "code",
   "execution_count": 10,
   "metadata": {},
   "outputs": [],
   "source": [
    "obesity_state_df.to_csv ('Data/obesity.csv', index = None, header=True)\n",
    "obesity_state_df_2014 = obesity_state_df[['State','Adult Obesity Rate 2014']]\n",
    "obesity_state_df_2014.to_csv('Data/CleanedObesity2014.csv')"
   ]
  },
  {
   "cell_type": "code",
   "execution_count": 11,
   "metadata": {},
   "outputs": [],
   "source": [
    "#Education:state wise data 1970, 1980,1990,2000, 2013-2017 for people above age 25. \n",
    "EducationState_df = pd.DataFrame(pd.read_excel(\"Data/stateWiseEducation.xlsx\"))\n",
    "colstocheck = EducationState_df.columns\n",
    "EducationState_dfnopercentage= EducationState_df[colstocheck].replace({'%':''}, regex = True)\n",
    "EducationState_dfnopercentage = EducationState_dfnopercentage[['Name','2013-2017']]"
   ]
  },
  {
   "cell_type": "code",
   "execution_count": 12,
   "metadata": {},
   "outputs": [],
   "source": [
    "EducationState_dfnopercentage = EducationState_dfnopercentage.rename(columns={'Name': 'State', '2013-2017': 'Education'})\n",
    "EducationState_dfnopercentage.head()\n",
    "EducationState_dfnopercentage.to_csv('Data/US Education 2014.csv')"
   ]
  },
  {
   "cell_type": "code",
   "execution_count": null,
   "metadata": {},
   "outputs": [],
   "source": []
  },
  {
   "cell_type": "code",
   "execution_count": null,
   "metadata": {},
   "outputs": [],
   "source": []
  }
 ],
 "metadata": {
  "kernelspec": {
   "display_name": "Python 3",
   "language": "python",
   "name": "python3"
  },
  "language_info": {
   "codemirror_mode": {
    "name": "ipython",
    "version": 3
   },
   "file_extension": ".py",
   "mimetype": "text/x-python",
   "name": "python",
   "nbconvert_exporter": "python",
   "pygments_lexer": "ipython3",
   "version": "3.7.3"
  }
 },
 "nbformat": 4,
 "nbformat_minor": 2
}
